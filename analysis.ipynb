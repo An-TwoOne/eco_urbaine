{
 "cells": [
  {
   "cell_type": "markdown",
   "id": "7c328d5e-e602-4348-bb78-f14528c3c033",
   "metadata": {},
   "source": [
    "Importation des teste "
   ]
  },
  {
   "cell_type": "markdown",
   "id": "1cc9061c-66cb-459e-9beb-9b287e6a4d3c",
   "metadata": {},
   "source": [
    "deded test\n"
   ]
  }
 ],
 "metadata": {
  "kernelspec": {
   "display_name": "Python 3 (ipykernel)",
   "language": "python",
   "name": "python3"
  },
  "language_info": {
   "codemirror_mode": {
    "name": "ipython",
    "version": 3
   },
   "file_extension": ".py",
   "mimetype": "text/x-python",
   "name": "python",
   "nbconvert_exporter": "python",
   "pygments_lexer": "ipython3",
   "version": "3.12.7"
  }
 },
 "nbformat": 4,
 "nbformat_minor": 5
}
